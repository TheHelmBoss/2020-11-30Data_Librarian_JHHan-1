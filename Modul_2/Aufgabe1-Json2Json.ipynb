{
 "cells": [
  {
   "cell_type": "code",
   "execution_count": 113,
   "metadata": {},
   "outputs": [],
   "source": [
    "import json\n"
   ]
  },
  {
   "cell_type": "code",
   "execution_count": 114,
   "metadata": {},
   "outputs": [
    {
     "name": "stdout",
     "output_type": "stream",
     "text": [
      "<class 'dict'>\n"
     ]
    }
   ],
   "source": [
    "url = \"https://www.bibsonomy.org/json/search/IR?items=1000&duplicates=merged\"\n",
    "import urllib.request\n",
    "import urllib.parse\n",
    "\n",
    "f = urllib.request.urlopen(url) \n",
    "result = f.read().decode('utf-8')\n",
    "\n",
    "data = json.loads(result) \n",
    "print(type(data))"
   ]
  },
  {
   "cell_type": "code",
   "execution_count": 115,
   "metadata": {},
   "outputs": [
    {
     "name": "stdout",
     "output_type": "stream",
     "text": [
      "dict_keys(['types', 'properties', 'items'])\n"
     ]
    }
   ],
   "source": [
    "print(data.keys())\n"
   ]
  },
  {
   "cell_type": "code",
   "execution_count": 116,
   "metadata": {},
   "outputs": [],
   "source": [
    "items = data['items']\n",
    "publications = [item for item in items if item['type'] == 'Publication']"
   ]
  },
  {
   "cell_type": "code",
   "execution_count": 117,
   "metadata": {},
   "outputs": [
    {
     "name": "stdout",
     "output_type": "stream",
     "text": [
      "929\n"
     ]
    }
   ],
   "source": [
    "print(len(publications)) # output: 1622. \n"
   ]
  },
  {
   "cell_type": "code",
   "execution_count": 118,
   "metadata": {},
   "outputs": [
    {
     "name": "stdout",
     "output_type": "stream",
     "text": [
      "['type', 'id', 'tags', 'intraHash', 'interHash', 'label', 'user', 'description', 'date', 'changeDate', 'count', 'pub-type', 'booktitle', 'publisher', 'year', 'url', 'author', 'authors', 'pages', 'ee', 'isbn', 'bibtexKey', 'journal', 'volume', 'series', 'editor', 'editors', 'number', 'note', 'abstract', 'dnbtitleid', 'posted-at', 'priority', 'citeulike-article-id', 'language', 'issn', 'doi', 'location', 'comment', 'bibsource', 'bdsk-file-1', 'date-modified', 'bdsk-url-1', 'address', 'acmid', 'numpages', 'issue', 'cdrom', 'pagetotal', 'ppn_gvk', 'subtitle', 'tagadata-svkoddatest2', 'tagadata-svko-dda-test', 'file', 'shorttitle', 'date-added', 'size', 'notes', 'eid', 'citeulike-linkout-0', 'where', 'citeulike-linkout-1', 'eprint', 'archiveprefix', 'groups', 'timestamp', 'supervisor', 'owner', 'index', 'uri', 'affiliation', 'rating', 'pmid', 'local-url', 'eissn', 'researcherid-numbers', 'orcid-numbers', 'article-number', 'unique-id', 'citeulike-linkout-2', 'refid', 'nocites', 'keyword', 'copyright', '__markedentry', 'firstpage', 'seealso', 'subject', 'pdf']\n"
     ]
    }
   ],
   "source": [
    "keynames=[]\n",
    "for p in publications:\n",
    "    for key in p:\n",
    "        if key not in keynames:\n",
    "            keynames.append(key)\n",
    "            \n",
    "print(keynames)"
   ]
  },
  {
   "cell_type": "code",
   "execution_count": 119,
   "metadata": {},
   "outputs": [],
   "source": [
    "key_list=['type', 'id', 'tags', 'label', 'description', 'url', 'pub-type', 'booktitle', 'publisher', 'year', 'author', 'pages', 'isbn',  'journal', 'volume', 'series', 'editor',  'note', 'abstract', \n",
    "            'language', 'issn', 'doi', 'issue', 'subtitle', 'shorttitle',  'notes', 'uri', 'affiliation','local-url', 'nocites', 'keyword', 'copyright', 'subject']\n",
    "tranJson =[]\n",
    "\n",
    "for p in publications:\n",
    "    \n",
    "        for k in list(p):\n",
    "            \n",
    "                if k not in key_list:\n",
    "                    del  p[k] \n",
    "                else:\n",
    "                    if k == \"type\":\n",
    "                        p[\"type_s\"] = p.pop('type')\n",
    "                    elif k == \"pub-type\":\n",
    "                        p[\"pub-type_t\"] =p.pop('pub-type') \n",
    "                    elif k == \"tags\":\n",
    "                        p[\"tags_ss\"] =p.pop('tags')\n",
    "                    elif k == \"year\":\n",
    "                        p[\"year_ss\"] =p.pop('year')      \n",
    "                    elif k == \"label\":\n",
    "                        p[\"title_t\"] =p.pop('label')  \n",
    "                    elif k == \"booktitle\":\n",
    "                        p[\"booktitle_t\"] =p.pop('booktitle')\n",
    "                    elif k == \"url\":\n",
    "                        p[\"url_s\"] =p.pop('url') \n",
    "                    elif k == \"author\":\n",
    "                        p[\"author_ss\"] =p.pop('author')\n",
    "                    elif k == \"journal\":\n",
    "                        p[\"journal_t\"] =p.pop('journal')      \n",
    "                    elif k == \"volume\":\n",
    "                        p[\"volume_s\"] =p.pop('volume')  \n",
    "                    elif k == \"number\":\n",
    "                        p[\"number_s\"] =p.pop('number')\n",
    "                    elif k == \"pages\":\n",
    "                        p[\"pages_s\"] =p.pop('pages') \n",
    "                    elif k == \"language\":\n",
    "                        p[\"language_s\"] =p.pop('language')\n",
    "                    elif k == \"doi\":\n",
    "                        p[\"doi_s\"] =p.pop('doi')      \n",
    "                    elif k == \"series\":\n",
    "                        p[\"series_s\"] =p.pop('series')  \n",
    "                    elif k == \"publisher\":\n",
    "                        p[\"publisher_s\"] =p.pop('publisher')\n",
    "                    elif k == \"shorttitle\":\n",
    "                        p[\"shorttitle_t\"] =p.pop('shorttitle')      \n",
    "                    elif k == \"editor\":\n",
    "                        p[\"editor_txt\"] =p.pop('editor')  \n",
    "                    elif k == \"uri\":\n",
    "                        p[\"uri_s\"] =p.pop('uri')\n",
    "                        \n",
    "        tranJson.append(p)       \n",
    " \n"
   ]
  },
  {
   "cell_type": "code",
   "execution_count": 121,
   "metadata": {},
   "outputs": [],
   "source": [
    "with open('bibsonomy_to_solr.json', 'w') as outfile:\n",
    "    json.dump(tranJson, outfile, indent=4)"
   ]
  },
  {
   "cell_type": "code",
   "execution_count": null,
   "metadata": {},
   "outputs": [],
   "source": []
  }
 ],
 "metadata": {
  "kernelspec": {
   "display_name": "Python 3",
   "language": "python",
   "name": "python3"
  },
  "language_info": {
   "codemirror_mode": {
    "name": "ipython",
    "version": 3
   },
   "file_extension": ".py",
   "mimetype": "text/x-python",
   "name": "python",
   "nbconvert_exporter": "python",
   "pygments_lexer": "ipython3",
   "version": "3.7.4"
  }
 },
 "nbformat": 4,
 "nbformat_minor": 2
}
